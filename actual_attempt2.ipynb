{
 "cells": [
  {
   "cell_type": "code",
   "execution_count": 1,
   "id": "3d299c66",
   "metadata": {},
   "outputs": [],
   "source": [
    "import numpy as np\n",
    "import matplotlib.pyplot as plt\n",
    "import os\n",
    "from PIL import Image\n",
    "\n",
    "import tensorflow as tf\n",
    "from tensorflow import keras\n",
    "from tensorflow.keras import Sequential\n",
    "from tensorflow.keras.layers import Dense, Conv2D, Dropout, Flatten, MaxPooling2D\n",
    "from tensorflow.keras.models import model_from_json\n",
    "from tensorflow.keras.optimizers import Adam\n",
    "\n",
    "from sklearn.metrics import confusion_matrix\n",
    "from sklearn.metrics import accuracy_score as accuracy"
   ]
  },
  {
   "cell_type": "code",
   "execution_count": 2,
   "id": "653a118f",
   "metadata": {},
   "outputs": [],
   "source": [
    "# def AlexNet(X_train, y_train, **kwargs):\n",
    "    \n",
    "#     model = Sequential([\n",
    "#         Conv2D(filters=96, kernel_size=(11,11), strides=(4,4), activation='relu', input_shape=(384, 512, 3)), # L1\n",
    "#         MaxPooling2D(pool_size=(3,3), strides=(2,2)), # L2\n",
    "#         Conv2D(filters=256, kernel_size=(5,5), strides=(1,1), activation='relu'), # L3\n",
    "#         MaxPooling2D(pool_size=(3,3), strides=(2,2)), # L4\n",
    "#         Conv2D(filters=384, kernel_size=(3,3), strides=(1,1), activation='relu'), # L5\n",
    "#         Conv2D(filters=384, kernel_size=(3,3), strides=(1,1), activation='relu'), # L6\n",
    "#         Conv2D(filters=256, kernel_size=(3,3), strides=(1,1), activation='relu'), # L7\n",
    "#         MaxPooling2D(pool_size=(3,3), strides=(2,2)), # L8\n",
    "#         Flatten(),\n",
    "#         Dense(4096, activation='relu'), # L9\n",
    "#         Dropout(0.5),\n",
    "#         Dense(4096, activation='relu'), # L10\n",
    "#         Dropout(0.5),\n",
    "#         Dense(3, activation='softmax')\n",
    "#     ])\n",
    "    \n",
    "#     model.compile(loss='categorical_crossentropy', optimizer=Adam(learning_rate=1e-5), metrics=['accuracy'])\n",
    "#     history = model.fit(X_train, y_train, **kwargs)\n",
    "#     return model, history"
   ]
  },
  {
   "cell_type": "code",
   "execution_count": 3,
   "id": "3c834abd",
   "metadata": {},
   "outputs": [
    {
     "name": "stdout",
     "output_type": "stream",
     "text": [
      "\n",
      "# actual photos: 6\n",
      "done\n"
     ]
    }
   ],
   "source": [
    "X = []\n",
    "folder = 'processed_photos'\n",
    "folder_list = os.listdir(folder)\n",
    "for file in folder_list:\n",
    "    img = Image.open(f'{folder}/{file}')\n",
    "    arr = np.array(img)\n",
    "    X.append(arr)\n",
    "\n",
    "print()\n",
    "print('# actual photos:', len(X))\n",
    "X = np.array(X)\n",
    "print('done')"
   ]
  },
  {
   "cell_type": "code",
   "execution_count": 4,
   "id": "6d65a461",
   "metadata": {},
   "outputs": [
    {
     "name": "stdout",
     "output_type": "stream",
     "text": [
      "Model: \"sequential\"\n",
      "_________________________________________________________________\n",
      "Layer (type)                 Output Shape              Param #   \n",
      "=================================================================\n",
      "conv2d (Conv2D)              (None, 94, 126, 96)       34944     \n",
      "_________________________________________________________________\n",
      "max_pooling2d (MaxPooling2D) (None, 46, 62, 96)        0         \n",
      "_________________________________________________________________\n",
      "conv2d_1 (Conv2D)            (None, 42, 58, 256)       614656    \n",
      "_________________________________________________________________\n",
      "max_pooling2d_1 (MaxPooling2 (None, 20, 28, 256)       0         \n",
      "_________________________________________________________________\n",
      "conv2d_2 (Conv2D)            (None, 18, 26, 384)       885120    \n",
      "_________________________________________________________________\n",
      "conv2d_3 (Conv2D)            (None, 16, 24, 384)       1327488   \n",
      "_________________________________________________________________\n",
      "conv2d_4 (Conv2D)            (None, 14, 22, 256)       884992    \n",
      "_________________________________________________________________\n",
      "max_pooling2d_2 (MaxPooling2 (None, 6, 10, 256)        0         \n",
      "_________________________________________________________________\n",
      "flatten (Flatten)            (None, 15360)             0         \n",
      "_________________________________________________________________\n",
      "dense (Dense)                (None, 4096)              62918656  \n",
      "_________________________________________________________________\n",
      "dropout (Dropout)            (None, 4096)              0         \n",
      "_________________________________________________________________\n",
      "dense_1 (Dense)              (None, 4096)              16781312  \n",
      "_________________________________________________________________\n",
      "dropout_1 (Dropout)          (None, 4096)              0         \n",
      "_________________________________________________________________\n",
      "dense_2 (Dense)              (None, 3)                 12291     \n",
      "=================================================================\n",
      "Total params: 83,459,459\n",
      "Trainable params: 83,459,459\n",
      "Non-trainable params: 0\n",
      "_________________________________________________________________\n"
     ]
    }
   ],
   "source": [
    "# from tensorflow.keras.models import model_from_json\n",
    "model_name = 'AlexNet100'\n",
    "with open(f'{model_name}.json') as jf:\n",
    "    json = jf.read()\n",
    "model = model_from_json(json)\n",
    "model.load_weights(f'{model_name}.h5')\n",
    "model.summary()"
   ]
  },
  {
   "cell_type": "code",
   "execution_count": 5,
   "id": "0ce7f644",
   "metadata": {},
   "outputs": [
    {
     "name": "stdout",
     "output_type": "stream",
     "text": [
      "[[0.9911016  0.0074161  0.0014823 ]\n",
      " [0.67447895 0.11688446 0.20863658]\n",
      " [0.908372   0.02746939 0.06415857]\n",
      " [0.94328403 0.01817413 0.03854185]\n",
      " [0.33650467 0.10944327 0.5540521 ]\n",
      " [0.70845443 0.00745823 0.28408727]]\n"
     ]
    }
   ],
   "source": [
    "y_pred = model.predict(X)\n",
    "print(y_pred)"
   ]
  },
  {
   "cell_type": "code",
   "execution_count": null,
   "id": "10b1206b",
   "metadata": {},
   "outputs": [],
   "source": []
  }
 ],
 "metadata": {
  "kernelspec": {
   "display_name": "Python 3 (ipykernel)",
   "language": "python",
   "name": "python3"
  },
  "language_info": {
   "codemirror_mode": {
    "name": "ipython",
    "version": 3
   },
   "file_extension": ".py",
   "mimetype": "text/x-python",
   "name": "python",
   "nbconvert_exporter": "python",
   "pygments_lexer": "ipython3",
   "version": "3.7.3"
  }
 },
 "nbformat": 4,
 "nbformat_minor": 5
}
