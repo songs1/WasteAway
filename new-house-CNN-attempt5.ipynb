{
 "cells": [
  {
   "cell_type": "code",
   "execution_count": 1,
   "id": "3d299c66",
   "metadata": {},
   "outputs": [],
   "source": [
    "import numpy as np\n",
    "import matplotlib.pyplot as plt\n",
    "import os\n",
    "from PIL import Image\n",
    "\n",
    "import tensorflow as tf\n",
    "from tensorflow import keras\n",
    "from tensorflow.keras import Sequential\n",
    "from tensorflow.keras.layers import Dense, Conv2D, Dropout, Flatten, MaxPooling2D\n",
    "from tensorflow.keras.models import model_from_json\n",
    "from tensorflow.keras.optimizers import Adam\n",
    "\n",
    "from sklearn.metrics import confusion_matrix\n",
    "from sklearn.metrics import accuracy_score as accuracy"
   ]
  },
  {
   "cell_type": "code",
   "execution_count": 2,
   "id": "653a118f",
   "metadata": {},
   "outputs": [],
   "source": [
    "def AlexNet(X_train, y_train, **kwargs):\n",
    "    \n",
    "    model = Sequential([\n",
    "        Conv2D(filters=96, kernel_size=(11,11), strides=(4,4), activation='relu', input_shape=(384, 512, 3)), # L1\n",
    "        MaxPooling2D(pool_size=(3,3), strides=(2,2)), # L2\n",
    "        Conv2D(filters=256, kernel_size=(5,5), strides=(1,1), activation='relu'), # L3\n",
    "        MaxPooling2D(pool_size=(3,3), strides=(2,2)), # L4\n",
    "        Conv2D(filters=384, kernel_size=(3,3), strides=(1,1), activation='relu'), # L5\n",
    "        Conv2D(filters=384, kernel_size=(3,3), strides=(1,1), activation='relu'), # L6\n",
    "        Conv2D(filters=256, kernel_size=(3,3), strides=(1,1), activation='relu'), # L7\n",
    "        MaxPooling2D(pool_size=(3,3), strides=(2,2)), # L8\n",
    "        Flatten(),\n",
    "        Dense(4096, activation='relu'), # L9\n",
    "        Dropout(0.5),\n",
    "        Dense(4096, activation='relu'), # L10\n",
    "        Dropout(0.5),\n",
    "        Dense(3, activation='softmax')\n",
    "    ])\n",
    "    \n",
    "    model.compile(loss='categorical_crossentropy', optimizer=Adam(learning_rate=1e-5), metrics=['accuracy'])\n",
    "    history = model.fit(X_train, y_train, **kwargs)\n",
    "    return model, history"
   ]
  },
  {
   "cell_type": "code",
   "execution_count": 3,
   "id": "3c834abd",
   "metadata": {},
   "outputs": [
    {
     "name": "stdout",
     "output_type": "stream",
     "text": [
      "................................................................................................................................................................................................................................................................................................................................................................\n",
      "Datapoints: 352\n",
      "Recycle/Trash/Compost: [117 118 117]\n",
      "done\n"
     ]
    }
   ],
   "source": [
    "X, y = [], []\n",
    "folder = 'new-house-resized-dataset'\n",
    "folder_list = os.listdir(folder)\n",
    "for file in folder_list:\n",
    "    print('.',end='')\n",
    "    category = file.split('_')[0]\n",
    "    if category == 'recycle':\n",
    "        y.append([1,0,0])\n",
    "    elif category == 'trash':\n",
    "        y.append([0,1,0])\n",
    "    elif category == 'compost':\n",
    "        y.append([0,0,1])\n",
    "    else:\n",
    "        raise Exception(f'Invalid Waste Catgory: {category}')\n",
    "    img = Image.open(f'{folder}/{file}')\n",
    "    arr = np.array(img)\n",
    "    X.append(arr)\n",
    "\n",
    "print()\n",
    "print('Datapoints:', len(y))\n",
    "X, y = np.array(X), np.array(y)\n",
    "print('Recycle/Trash/Compost:', np.sum(y, axis=0))\n",
    "print('done')"
   ]
  },
  {
   "cell_type": "code",
   "execution_count": 4,
   "id": "d8a6f920",
   "metadata": {},
   "outputs": [
    {
     "name": "stdout",
     "output_type": "stream",
     "text": [
      "[271, 318, 309, 108, 110, 70, 256, 331, 111, 224, 3, 55, 114, 117, 164, 295, 254, 149, 221, 48, 192, 316, 195, 167, 307, 66, 165, 10, 152, 265, 338, 76, 99, 201, 151, 162, 311, 169, 253, 29, 322, 32, 61, 74, 52, 157, 91, 255, 187, 136, 314, 266, 325, 269, 332, 185, 9, 351, 250, 22, 347, 172, 260, 73, 321, 133, 299, 220, 18, 98]\n"
     ]
    }
   ],
   "source": [
    "SPLIT = 3\n",
    "TEST_IDX = [271, 318, 309, 108, 110, 70, 256, 331, 111, 224, 3, 55, 114, 117, 164, 295, 254, 149, 221, 48, 192, 316, 195, 167, 307, 66, 165, 10, 152, 265, 338, 76, 99, 201, 151, 162, 311, 169, 253, 29, 322, 32, 61, 74, 52, 157, 91, 255, 187, 136, 314, 266, 325, 269, 332, 185, 9, 351, 250, 22, 347, 172, 260, 73, 321, 133, 299, 220, 18, 98]\n",
    "\n",
    "def train_test_split(X, y, test_idx=None, test_size=0.2):\n",
    "    ''' Split input data X and labels y into training and testing arrays '''\n",
    "    n_list = list(range(len(y)))\n",
    "    if test_idx is None:\n",
    "        print('\\n -- Performing NEW train-test split -- \\n')\n",
    "        test_idx = np.random.choice(n_list, replace=False, size=int(test_size*len(y)))\n",
    "    else:\n",
    "        test_idx = np.array(test_idx)\n",
    "    train_idx = np.array([i for i in n_list if i not in test_idx])\n",
    "    X_train = X[train_idx,:]\n",
    "    X_test = X[test_idx,:]\n",
    "    y_train = y[train_idx]\n",
    "    y_test = y[test_idx]\n",
    "    return X_train, y_train, X_test, y_test, test_idx\n",
    "\n",
    "X_train, y_train, X_test, y_test, test_idx = train_test_split(X, y, TEST_IDX)\n",
    "print(list(test_idx))"
   ]
  },
  {
   "cell_type": "code",
   "execution_count": 5,
   "id": "3cfa7f0c",
   "metadata": {},
   "outputs": [
    {
     "name": "stdout",
     "output_type": "stream",
     "text": [
      "(282, 384, 512, 3) (282, 3)\n",
      "(70, 384, 512, 3) (70, 3)\n"
     ]
    }
   ],
   "source": [
    "print(X_train.shape, y_train.shape)\n",
    "print(X_test.shape, y_test.shape)"
   ]
  },
  {
   "cell_type": "code",
   "execution_count": 6,
   "id": "381aadb8",
   "metadata": {
    "scrolled": false
   },
   "outputs": [
    {
     "name": "stdout",
     "output_type": "stream",
     "text": [
      "Epoch 1/100\n",
      "8/8 [==============================] - 23s 3s/step - loss: 7.1307 - accuracy: 0.4089 - val_loss: 26.1544 - val_accuracy: 0.0000e+00\n",
      "Epoch 2/100\n",
      "8/8 [==============================] - 27s 3s/step - loss: 4.9290 - accuracy: 0.4489 - val_loss: 6.1275 - val_accuracy: 0.0000e+00\n",
      "Epoch 3/100\n",
      "8/8 [==============================] - 26s 3s/step - loss: 3.2372 - accuracy: 0.4933 - val_loss: 2.2933 - val_accuracy: 0.1228\n",
      "Epoch 4/100\n",
      "8/8 [==============================] - 24s 3s/step - loss: 3.4587 - accuracy: 0.5600 - val_loss: 4.4807 - val_accuracy: 0.0351\n",
      "Epoch 5/100\n",
      "8/8 [==============================] - 25s 3s/step - loss: 2.6140 - accuracy: 0.5556 - val_loss: 2.1924 - val_accuracy: 0.3684\n",
      "Epoch 6/100\n",
      "8/8 [==============================] - 24s 3s/step - loss: 2.2021 - accuracy: 0.5289 - val_loss: 1.8788 - val_accuracy: 0.3333\n",
      "Epoch 7/100\n",
      "8/8 [==============================] - 26s 3s/step - loss: 1.6130 - accuracy: 0.6222 - val_loss: 3.5912 - val_accuracy: 0.0877\n",
      "Epoch 8/100\n",
      "8/8 [==============================] - 28s 3s/step - loss: 1.8884 - accuracy: 0.5822 - val_loss: 2.4057 - val_accuracy: 0.2456\n",
      "Epoch 9/100\n",
      "8/8 [==============================] - 27s 3s/step - loss: 1.3568 - accuracy: 0.6978 - val_loss: 1.2105 - val_accuracy: 0.6140\n",
      "Epoch 10/100\n",
      "8/8 [==============================] - 26s 3s/step - loss: 1.1492 - accuracy: 0.6933 - val_loss: 1.2617 - val_accuracy: 0.5789\n",
      "Epoch 11/100\n",
      "8/8 [==============================] - 28s 4s/step - loss: 1.2841 - accuracy: 0.6756 - val_loss: 1.0497 - val_accuracy: 0.6491\n",
      "Epoch 12/100\n",
      "8/8 [==============================] - 34s 4s/step - loss: 0.8912 - accuracy: 0.7378 - val_loss: 1.3706 - val_accuracy: 0.5263\n",
      "Epoch 13/100\n",
      "8/8 [==============================] - 26s 3s/step - loss: 1.1443 - accuracy: 0.6667 - val_loss: 0.9365 - val_accuracy: 0.6842\n",
      "Epoch 14/100\n",
      "8/8 [==============================] - 28s 3s/step - loss: 0.9334 - accuracy: 0.7511 - val_loss: 0.8655 - val_accuracy: 0.6842\n",
      "Epoch 15/100\n",
      "8/8 [==============================] - 28s 3s/step - loss: 0.7224 - accuracy: 0.7644 - val_loss: 0.5563 - val_accuracy: 0.8246\n",
      "Epoch 16/100\n",
      "8/8 [==============================] - 28s 3s/step - loss: 0.7630 - accuracy: 0.7733 - val_loss: 1.2559 - val_accuracy: 0.5614\n",
      "Epoch 17/100\n",
      "8/8 [==============================] - 26s 3s/step - loss: 0.5962 - accuracy: 0.7911 - val_loss: 0.7259 - val_accuracy: 0.7719\n",
      "Epoch 18/100\n",
      "8/8 [==============================] - 26s 3s/step - loss: 0.5681 - accuracy: 0.8178 - val_loss: 0.5292 - val_accuracy: 0.7895\n",
      "Epoch 19/100\n",
      "8/8 [==============================] - 28s 3s/step - loss: 0.4976 - accuracy: 0.8444 - val_loss: 0.6994 - val_accuracy: 0.7719\n",
      "Epoch 20/100\n",
      "8/8 [==============================] - 27s 3s/step - loss: 0.4944 - accuracy: 0.8222 - val_loss: 0.7139 - val_accuracy: 0.7719\n",
      "Epoch 21/100\n",
      "8/8 [==============================] - 28s 3s/step - loss: 0.4477 - accuracy: 0.8844 - val_loss: 0.4455 - val_accuracy: 0.8246\n",
      "Epoch 22/100\n",
      "8/8 [==============================] - 28s 3s/step - loss: 0.3997 - accuracy: 0.8533 - val_loss: 0.6298 - val_accuracy: 0.8070\n",
      "Epoch 23/100\n",
      "8/8 [==============================] - 27s 3s/step - loss: 0.3991 - accuracy: 0.8933 - val_loss: 0.5338 - val_accuracy: 0.8246\n",
      "Epoch 24/100\n",
      "8/8 [==============================] - 25s 3s/step - loss: 0.3255 - accuracy: 0.8711 - val_loss: 0.3560 - val_accuracy: 0.8772\n",
      "Epoch 25/100\n",
      "8/8 [==============================] - 28s 3s/step - loss: 0.2718 - accuracy: 0.9022 - val_loss: 0.4213 - val_accuracy: 0.8596\n",
      "Epoch 26/100\n",
      "8/8 [==============================] - 28s 3s/step - loss: 0.3167 - accuracy: 0.9200 - val_loss: 0.2888 - val_accuracy: 0.9123\n",
      "Epoch 27/100\n",
      "8/8 [==============================] - 27s 3s/step - loss: 0.2273 - accuracy: 0.9200 - val_loss: 0.4159 - val_accuracy: 0.8772\n",
      "Epoch 28/100\n",
      "8/8 [==============================] - 27s 3s/step - loss: 0.1499 - accuracy: 0.9333 - val_loss: 0.3228 - val_accuracy: 0.8947\n",
      "Epoch 29/100\n",
      "8/8 [==============================] - 28s 4s/step - loss: 0.1649 - accuracy: 0.9289 - val_loss: 0.4082 - val_accuracy: 0.8772\n",
      "Epoch 30/100\n",
      "8/8 [==============================] - 26s 3s/step - loss: 0.1887 - accuracy: 0.9289 - val_loss: 0.2891 - val_accuracy: 0.8947\n",
      "Epoch 31/100\n",
      "8/8 [==============================] - 26s 3s/step - loss: 0.1291 - accuracy: 0.9556 - val_loss: 0.2672 - val_accuracy: 0.9298\n",
      "Epoch 32/100\n",
      "8/8 [==============================] - 28s 3s/step - loss: 0.1689 - accuracy: 0.9378 - val_loss: 0.3112 - val_accuracy: 0.9123\n",
      "Epoch 33/100\n",
      "8/8 [==============================] - 28s 3s/step - loss: 0.1025 - accuracy: 0.9644 - val_loss: 0.4142 - val_accuracy: 0.8596\n",
      "Epoch 34/100\n",
      "8/8 [==============================] - 28s 3s/step - loss: 0.0985 - accuracy: 0.9689 - val_loss: 0.3233 - val_accuracy: 0.8947\n",
      "Epoch 35/100\n",
      "8/8 [==============================] - 28s 3s/step - loss: 0.2881 - accuracy: 0.8978 - val_loss: 0.2400 - val_accuracy: 0.9298\n",
      "Epoch 36/100\n",
      "8/8 [==============================] - 27s 3s/step - loss: 0.1632 - accuracy: 0.9378 - val_loss: 0.3713 - val_accuracy: 0.8596\n",
      "Epoch 37/100\n",
      "8/8 [==============================] - 25s 3s/step - loss: 0.1169 - accuracy: 0.9644 - val_loss: 0.2514 - val_accuracy: 0.9123\n",
      "Epoch 38/100\n",
      "8/8 [==============================] - 27s 3s/step - loss: 0.4274 - accuracy: 0.8978 - val_loss: 0.2020 - val_accuracy: 0.9298\n",
      "Epoch 39/100\n",
      "8/8 [==============================] - 28s 3s/step - loss: 0.2189 - accuracy: 0.9156 - val_loss: 0.2431 - val_accuracy: 0.9298\n",
      "Epoch 40/100\n",
      "8/8 [==============================] - 28s 3s/step - loss: 0.1684 - accuracy: 0.9333 - val_loss: 0.4550 - val_accuracy: 0.8596\n",
      "Epoch 41/100\n",
      "8/8 [==============================] - 28s 3s/step - loss: 0.1565 - accuracy: 0.9378 - val_loss: 0.2901 - val_accuracy: 0.9123\n",
      "Epoch 42/100\n",
      "8/8 [==============================] - 28s 3s/step - loss: 0.1017 - accuracy: 0.9689 - val_loss: 0.3296 - val_accuracy: 0.9123\n",
      "Epoch 43/100\n",
      "8/8 [==============================] - 28s 3s/step - loss: 0.1493 - accuracy: 0.9333 - val_loss: 0.1877 - val_accuracy: 0.9825\n",
      "Epoch 44/100\n",
      "8/8 [==============================] - 28s 3s/step - loss: 0.0817 - accuracy: 0.9689 - val_loss: 0.1512 - val_accuracy: 0.9825\n",
      "Epoch 45/100\n",
      "8/8 [==============================] - 28s 3s/step - loss: 0.0840 - accuracy: 0.9822 - val_loss: 0.5004 - val_accuracy: 0.8421\n",
      "Epoch 46/100\n",
      "8/8 [==============================] - 27s 3s/step - loss: 0.2101 - accuracy: 0.9378 - val_loss: 0.7936 - val_accuracy: 0.7193\n",
      "Epoch 47/100\n",
      "8/8 [==============================] - 28s 3s/step - loss: 0.1236 - accuracy: 0.9511 - val_loss: 0.2072 - val_accuracy: 0.9474\n",
      "Epoch 48/100\n",
      "8/8 [==============================] - 28s 3s/step - loss: 0.4201 - accuracy: 0.8622 - val_loss: 0.0753 - val_accuracy: 0.9825\n",
      "Epoch 49/100\n",
      "8/8 [==============================] - 28s 3s/step - loss: 0.2176 - accuracy: 0.9067 - val_loss: 0.7136 - val_accuracy: 0.7018\n",
      "Epoch 50/100\n",
      "8/8 [==============================] - 28s 3s/step - loss: 0.2170 - accuracy: 0.9156 - val_loss: 0.4156 - val_accuracy: 0.7895\n",
      "Epoch 51/100\n",
      "8/8 [==============================] - 27s 3s/step - loss: 0.1393 - accuracy: 0.9333 - val_loss: 0.3421 - val_accuracy: 0.8596\n",
      "Epoch 52/100\n",
      "8/8 [==============================] - 28s 3s/step - loss: 0.1841 - accuracy: 0.9244 - val_loss: 1.8234 - val_accuracy: 0.3509\n",
      "Epoch 53/100\n",
      "8/8 [==============================] - 28s 3s/step - loss: 0.1707 - accuracy: 0.9200 - val_loss: 0.3825 - val_accuracy: 0.8421\n",
      "Epoch 54/100\n",
      "8/8 [==============================] - 28s 3s/step - loss: 0.1365 - accuracy: 0.9511 - val_loss: 0.1256 - val_accuracy: 0.9825\n",
      "Epoch 55/100\n",
      "8/8 [==============================] - 28s 3s/step - loss: 0.1782 - accuracy: 0.9289 - val_loss: 0.4739 - val_accuracy: 0.8421\n",
      "Epoch 56/100\n",
      "8/8 [==============================] - 28s 3s/step - loss: 0.1092 - accuracy: 0.9644 - val_loss: 1.0016 - val_accuracy: 0.6491\n",
      "Epoch 57/100\n",
      "8/8 [==============================] - 25s 3s/step - loss: 0.0984 - accuracy: 0.9600 - val_loss: 0.5163 - val_accuracy: 0.8421\n",
      "Epoch 58/100\n",
      "8/8 [==============================] - 27s 3s/step - loss: 0.0410 - accuracy: 0.9867 - val_loss: 0.2766 - val_accuracy: 0.8596\n",
      "Epoch 59/100\n"
     ]
    },
    {
     "name": "stdout",
     "output_type": "stream",
     "text": [
      "8/8 [==============================] - 28s 3s/step - loss: 0.0875 - accuracy: 0.9689 - val_loss: 0.2027 - val_accuracy: 0.9298\n",
      "Epoch 60/100\n",
      "8/8 [==============================] - 29s 4s/step - loss: 0.0381 - accuracy: 0.9867 - val_loss: 0.1745 - val_accuracy: 0.9825\n",
      "Epoch 61/100\n",
      "8/8 [==============================] - 28s 3s/step - loss: 0.0593 - accuracy: 0.9778 - val_loss: 0.2036 - val_accuracy: 0.9649\n",
      "Epoch 62/100\n",
      "8/8 [==============================] - 28s 3s/step - loss: 0.0489 - accuracy: 0.9733 - val_loss: 0.2822 - val_accuracy: 0.8947\n",
      "Epoch 63/100\n",
      "8/8 [==============================] - 28s 3s/step - loss: 0.0243 - accuracy: 0.9956 - val_loss: 0.2472 - val_accuracy: 0.9123\n",
      "Epoch 64/100\n",
      "8/8 [==============================] - 28s 3s/step - loss: 0.0307 - accuracy: 0.9911 - val_loss: 0.2405 - val_accuracy: 0.9123\n",
      "Epoch 65/100\n",
      "8/8 [==============================] - 28s 3s/step - loss: 0.0233 - accuracy: 1.0000 - val_loss: 0.2398 - val_accuracy: 0.9123\n",
      "Epoch 66/100\n",
      "8/8 [==============================] - 28s 3s/step - loss: 0.0142 - accuracy: 1.0000 - val_loss: 0.2486 - val_accuracy: 0.9123\n",
      "Epoch 67/100\n",
      "8/8 [==============================] - 28s 3s/step - loss: 0.0261 - accuracy: 0.9911 - val_loss: 0.2024 - val_accuracy: 0.9474\n",
      "Epoch 68/100\n",
      "8/8 [==============================] - 27s 3s/step - loss: 0.0224 - accuracy: 0.9956 - val_loss: 0.1532 - val_accuracy: 0.9825\n",
      "Epoch 69/100\n",
      "8/8 [==============================] - 28s 3s/step - loss: 0.0262 - accuracy: 0.9956 - val_loss: 0.2038 - val_accuracy: 0.9649\n",
      "Epoch 70/100\n",
      "8/8 [==============================] - 28s 4s/step - loss: 0.0463 - accuracy: 0.9867 - val_loss: 0.2086 - val_accuracy: 0.9298\n",
      "Epoch 71/100\n",
      "8/8 [==============================] - 28s 3s/step - loss: 0.0272 - accuracy: 0.9911 - val_loss: 0.1998 - val_accuracy: 0.9474\n",
      "Epoch 72/100\n",
      "8/8 [==============================] - 26s 3s/step - loss: 0.0187 - accuracy: 0.9956 - val_loss: 0.2008 - val_accuracy: 0.9474\n",
      "Epoch 73/100\n",
      "8/8 [==============================] - 28s 3s/step - loss: 0.0206 - accuracy: 0.9956 - val_loss: 0.2135 - val_accuracy: 0.9298\n",
      "Epoch 74/100\n",
      "8/8 [==============================] - 28s 3s/step - loss: 0.0133 - accuracy: 1.0000 - val_loss: 0.2154 - val_accuracy: 0.9298\n",
      "Epoch 75/100\n",
      "8/8 [==============================] - 28s 4s/step - loss: 0.0156 - accuracy: 1.0000 - val_loss: 0.2239 - val_accuracy: 0.9298\n",
      "Epoch 76/100\n",
      "8/8 [==============================] - 28s 3s/step - loss: 0.0215 - accuracy: 1.0000 - val_loss: 0.2385 - val_accuracy: 0.9123\n",
      "Epoch 77/100\n",
      "8/8 [==============================] - 27s 3s/step - loss: 0.0173 - accuracy: 1.0000 - val_loss: 0.2499 - val_accuracy: 0.9123\n",
      "Epoch 78/100\n",
      "8/8 [==============================] - 27s 3s/step - loss: 0.0138 - accuracy: 1.0000 - val_loss: 0.1981 - val_accuracy: 0.9649\n",
      "Epoch 79/100\n",
      "8/8 [==============================] - 28s 4s/step - loss: 0.0098 - accuracy: 1.0000 - val_loss: 0.1918 - val_accuracy: 0.9649\n",
      "Epoch 80/100\n",
      "8/8 [==============================] - 28s 3s/step - loss: 0.0086 - accuracy: 1.0000 - val_loss: 0.2235 - val_accuracy: 0.9298\n",
      "Epoch 81/100\n",
      "8/8 [==============================] - 28s 3s/step - loss: 0.0105 - accuracy: 1.0000 - val_loss: 0.2384 - val_accuracy: 0.9123\n",
      "Epoch 82/100\n",
      "8/8 [==============================] - 28s 3s/step - loss: 0.0545 - accuracy: 0.9822 - val_loss: 0.2219 - val_accuracy: 0.9298\n",
      "Epoch 83/100\n",
      "8/8 [==============================] - 28s 3s/step - loss: 0.0137 - accuracy: 1.0000 - val_loss: 0.2181 - val_accuracy: 0.9474\n",
      "Epoch 84/100\n",
      "8/8 [==============================] - 28s 3s/step - loss: 0.0153 - accuracy: 0.9956 - val_loss: 0.1843 - val_accuracy: 0.9649\n",
      "Epoch 85/100\n",
      "8/8 [==============================] - 28s 3s/step - loss: 0.0140 - accuracy: 0.9956 - val_loss: 0.1897 - val_accuracy: 0.9649\n",
      "Epoch 86/100\n",
      "8/8 [==============================] - 29s 4s/step - loss: 0.0101 - accuracy: 1.0000 - val_loss: 0.2048 - val_accuracy: 0.9474\n",
      "Epoch 87/100\n",
      "8/8 [==============================] - 28s 3s/step - loss: 0.0135 - accuracy: 0.9956 - val_loss: 0.1868 - val_accuracy: 0.9649\n",
      "Epoch 88/100\n",
      "8/8 [==============================] - 27s 3s/step - loss: 0.0143 - accuracy: 0.9911 - val_loss: 0.1907 - val_accuracy: 0.9649\n",
      "Epoch 89/100\n",
      "8/8 [==============================] - 28s 3s/step - loss: 0.0107 - accuracy: 1.0000 - val_loss: 0.1765 - val_accuracy: 0.9649\n",
      "Epoch 90/100\n",
      "8/8 [==============================] - 28s 3s/step - loss: 0.0116 - accuracy: 0.9956 - val_loss: 0.1510 - val_accuracy: 0.9825\n",
      "Epoch 91/100\n",
      "8/8 [==============================] - 28s 3s/step - loss: 0.0117 - accuracy: 0.9956 - val_loss: 0.1748 - val_accuracy: 0.9825\n",
      "Epoch 92/100\n",
      "8/8 [==============================] - 28s 3s/step - loss: 0.0153 - accuracy: 0.9956 - val_loss: 0.2064 - val_accuracy: 0.9474\n",
      "Epoch 93/100\n",
      "8/8 [==============================] - 28s 3s/step - loss: 0.0101 - accuracy: 1.0000 - val_loss: 0.2050 - val_accuracy: 0.9649\n",
      "Epoch 94/100\n",
      "8/8 [==============================] - 28s 4s/step - loss: 0.0099 - accuracy: 1.0000 - val_loss: 0.2184 - val_accuracy: 0.9474\n",
      "Epoch 95/100\n",
      "8/8 [==============================] - 28s 3s/step - loss: 0.0250 - accuracy: 0.9956 - val_loss: 0.1917 - val_accuracy: 0.9649\n",
      "Epoch 96/100\n",
      "8/8 [==============================] - 29s 4s/step - loss: 0.0131 - accuracy: 0.9956 - val_loss: 0.1717 - val_accuracy: 0.9825\n",
      "Epoch 97/100\n",
      "8/8 [==============================] - 26s 3s/step - loss: 0.0080 - accuracy: 1.0000 - val_loss: 0.1805 - val_accuracy: 0.9649\n",
      "Epoch 98/100\n",
      "8/8 [==============================] - 26s 3s/step - loss: 0.0124 - accuracy: 0.9956 - val_loss: 0.1688 - val_accuracy: 0.9825\n",
      "Epoch 99/100\n",
      "8/8 [==============================] - 28s 3s/step - loss: 0.0107 - accuracy: 0.9956 - val_loss: 0.1915 - val_accuracy: 0.9649\n",
      "Epoch 100/100\n",
      "8/8 [==============================] - 28s 3s/step - loss: 0.0106 - accuracy: 0.9956 - val_loss: 0.2355 - val_accuracy: 0.9649\n"
     ]
    }
   ],
   "source": [
    "#class_weight = {0:1, 1:100}\n",
    "#print(class_weight)\n",
    "model, hist = AlexNet(X_train, y_train, verbose=True, epochs=100, validation_split=0.2, shuffle=True)\n",
    "    # batch_size=32)\n",
    "    # class_weight = class_weight)"
   ]
  },
  {
   "cell_type": "code",
   "execution_count": 14,
   "id": "3cec5c0b",
   "metadata": {},
   "outputs": [
    {
     "data": {
      "image/png": "[encoded data removed]",
      "text/plain": [
       "<Figure size 432x288 with 1 Axes>"
      ]
     },
     "metadata": {
      "needs_background": "light"
     },
     "output_type": "display_data"
    }
   ],
   "source": [
    "def plot_loss(hist):\n",
    "    plt.figure()\n",
    "    plt.plot(hist.history['loss'], label='loss') \n",
    "    plt.plot(hist.history['val_loss'], label='val_loss')\n",
    "    plt.xlabel('Epoch', size=20)\n",
    "    plt.ylabel('Training Loss\\n(Categorical Cross Entropy)', size=16)\n",
    "    plt.legend()\n",
    "    plt.grid(True)\n",
    "    \n",
    "plot_loss(hist)"
   ]
  },
  {
   "cell_type": "code",
   "execution_count": 8,
   "id": "0ce7f644",
   "metadata": {},
   "outputs": [
    {
     "data": {
      "text/plain": [
       "array([[3.39371129e-03, 9.95890439e-01, 7.15865812e-04],\n",
       "       [5.34345818e-05, 9.99269664e-01, 6.76796015e-04],\n",
       "       [2.25291471e-03, 9.97728169e-01, 1.89330367e-05],\n",
       "       [1.06110010e-05, 9.49157766e-08, 9.99989271e-01],\n",
       "       [7.09111703e-08, 2.16818541e-09, 9.99999881e-01],\n",
       "       [1.49063835e-05, 1.10098999e-05, 9.99974132e-01],\n",
       "       [4.74537910e-06, 9.99907136e-01, 8.80467996e-05],\n",
       "       [1.01062283e-03, 9.97966170e-01, 1.02318195e-03],\n",
       "       [7.79198657e-04, 4.41434707e-07, 9.99220371e-01],\n",
       "       [9.62577760e-01, 2.79502999e-02, 9.47199855e-03],\n",
       "       [2.09646532e-04, 1.64405070e-03, 9.98146296e-01],\n",
       "       [2.88552201e-07, 7.66354891e-09, 9.99999762e-01],\n",
       "       [1.12234454e-06, 3.99799198e-08, 9.99998808e-01],\n",
       "       [9.98999655e-01, 4.22077021e-04, 5.78300620e-04],\n",
       "       [1.00000000e+00, 5.17389576e-10, 8.92768010e-13],\n",
       "       [1.52033169e-06, 9.99996781e-01, 1.69288523e-06],\n",
       "       [6.53098524e-03, 4.66957152e-01, 5.26511908e-01],\n",
       "       [9.98749614e-01, 6.57598081e-04, 5.92786993e-04],\n",
       "       [1.00000000e+00, 3.90056265e-10, 7.54755902e-09],\n",
       "       [2.66904317e-05, 5.74672194e-05, 9.99915838e-01],\n",
       "       [1.00000000e+00, 1.72299286e-09, 1.53587559e-10],\n",
       "       [4.71481821e-04, 9.99369681e-01, 1.58853640e-04],\n",
       "       [9.99426365e-01, 5.22483373e-04, 5.12682636e-05],\n",
       "       [9.99999642e-01, 2.01736768e-07, 6.43693383e-08],\n",
       "       [2.35625845e-03, 7.78861582e-01, 2.18782127e-01],\n",
       "       [4.83955992e-05, 6.58145582e-05, 9.99885798e-01],\n",
       "       [9.99723017e-01, 2.76979787e-04, 2.63285393e-08],\n",
       "       [1.14703341e-03, 1.44765172e-02, 9.84376431e-01],\n",
       "       [9.99986172e-01, 8.22774382e-06, 5.59626596e-06],\n",
       "       [5.62851201e-04, 9.99422789e-01, 1.44683163e-05],\n",
       "       [1.11727604e-04, 9.94492054e-01, 5.39623667e-03],\n",
       "       [1.36484016e-06, 2.68155691e-05, 9.99971867e-01],\n",
       "       [2.15978773e-07, 2.30188161e-05, 9.99976754e-01],\n",
       "       [1.00000000e+00, 2.31539704e-10, 6.83932511e-12],\n",
       "       [1.00000000e+00, 3.87304055e-08, 4.81961493e-09],\n",
       "       [1.00000000e+00, 2.62881557e-08, 2.03400341e-09],\n",
       "       [6.10835094e-04, 9.99388695e-01, 4.45416788e-07],\n",
       "       [9.99891162e-01, 1.45202721e-08, 1.08820401e-04],\n",
       "       [1.06066684e-04, 9.99632835e-01, 2.61115085e-04],\n",
       "       [1.52906477e-01, 2.53008940e-04, 8.46840501e-01],\n",
       "       [5.15325814e-02, 9.48148370e-01, 3.19056446e-04],\n",
       "       [3.68337234e-04, 6.50026428e-04, 9.98981655e-01],\n",
       "       [4.75806792e-06, 1.17681623e-06, 9.99994040e-01],\n",
       "       [2.02496381e-06, 1.48888715e-08, 9.99997973e-01],\n",
       "       [6.66647040e-08, 5.75444359e-09, 9.99999881e-01],\n",
       "       [9.97671187e-01, 1.38566084e-03, 9.43117368e-04],\n",
       "       [2.20628749e-07, 1.68092757e-08, 9.99999762e-01],\n",
       "       [5.75279300e-05, 9.89254832e-01, 1.06875598e-02],\n",
       "       [9.99982357e-01, 6.73305158e-06, 1.09382891e-05],\n",
       "       [9.97045338e-01, 2.92968401e-03, 2.49378991e-05],\n",
       "       [6.72006990e-07, 9.99988794e-01, 1.05180034e-05],\n",
       "       [3.72167880e-04, 9.05488670e-01, 9.41391736e-02],\n",
       "       [2.06552795e-04, 9.99665618e-01, 1.27917709e-04],\n",
       "       [1.67635772e-05, 9.91165817e-01, 8.81736353e-03],\n",
       "       [1.85494002e-07, 9.99998927e-01, 8.83466669e-07],\n",
       "       [9.99994755e-01, 1.66331279e-06, 3.51868198e-06],\n",
       "       [3.52949243e-08, 1.72056218e-06, 9.99998212e-01],\n",
       "       [1.96587234e-06, 9.91878748e-01, 8.11931118e-03],\n",
       "       [7.18259427e-04, 9.73759830e-01, 2.55218092e-02],\n",
       "       [3.86913911e-07, 1.89482989e-08, 9.99999642e-01],\n",
       "       [5.95523417e-01, 4.04474795e-01, 1.85093472e-06],\n",
       "       [9.75740194e-01, 8.19914590e-07, 2.42589656e-02],\n",
       "       [3.00248612e-05, 9.99947309e-01, 2.26818793e-05],\n",
       "       [7.02387808e-07, 2.24265850e-08, 9.99999285e-01],\n",
       "       [1.75376907e-01, 9.09280207e-04, 8.23713839e-01],\n",
       "       [8.38043511e-01, 4.84613593e-05, 1.61908001e-01],\n",
       "       [9.79603454e-03, 9.89379585e-01, 8.24451854e-04],\n",
       "       [5.19587882e-02, 4.71494286e-06, 9.48036492e-01],\n",
       "       [1.41214235e-02, 2.06693877e-02, 9.65209186e-01],\n",
       "       [1.47996070e-05, 6.74932817e-05, 9.99917746e-01]], dtype=float32)"
      ]
     },
     "execution_count": 8,
     "metadata": {},
     "output_type": "execute_result"
    }
   ],
   "source": [
    "y_pred = model.predict(X_test)\n",
    "y_pred"
   ]
  },
  {
   "cell_type": "code",
   "execution_count": 9,
   "id": "6f0ffdfa",
   "metadata": {},
   "outputs": [
    {
     "name": "stdout",
     "output_type": "stream",
     "text": [
      "Recycle (0) vs. Trash (1) vs. Compost (2)\n",
      "AlexNet  on New House data\n",
      "\n",
      "Confusion matrix:\n",
      " [[20  0  1]\n",
      " [ 1 23  2]\n",
      " [ 0  0 23]]\n",
      "\n",
      "Accuracy: 0.9428571428571428\n"
     ]
    }
   ],
   "source": [
    "y_test_arg = np.argmax(y_test, axis=1)\n",
    "y_pred_arg = np.argmax(y_pred, axis=1)\n",
    "print('Recycle (0) vs. Trash (1) vs. Compost (2)\\nAlexNet  on New House data')\n",
    "print('\\nConfusion matrix:\\n', confusion_matrix(y_test_arg, y_pred_arg))\n",
    "print('\\nAccuracy:', accuracy(y_test_arg, y_pred_arg))"
   ]
  },
  {
   "cell_type": "code",
   "execution_count": 19,
   "id": "6c8c02e2",
   "metadata": {},
   "outputs": [
    {
     "data": {
      "image/png": "[encoded data removed]",
      "text/plain": [
       "<Figure size 432x288 with 2 Axes>"
      ]
     },
     "metadata": {
      "needs_background": "light"
     },
     "output_type": "display_data"
    }
   ],
   "source": [
    "plt.pcolormesh(confusion_matrix(y_test_arg, y_pred_arg), cmap='plasma')\n",
    "acc = np.round(accuracy(y_test_arg, y_pred_arg)*100, 2)\n",
    "plt.title(f'AlexNet on New House Data\\nTest Accuracy: {acc}%\\n\\nConfusion Matrix', size=20)\n",
    "plt.xlabel('Predicted Category', size=18)\n",
    "plt.ylabel('Label Category', size=18)\n",
    "plt.xticks([0.5, 1.5, 2.5], ['Recycle', 'Trash', 'Compost'], size=14)\n",
    "plt.yticks([0.5, 1.5, 2.5], ['R', 'T', 'C'], size=14)\n",
    "plt.ylim(3,0)\n",
    "plt.colorbar().set_label(label='Test Datapoints', size=16)"
   ]
  },
  {
   "cell_type": "code",
   "execution_count": 24,
   "id": "005af535",
   "metadata": {},
   "outputs": [
    {
     "data": {
      "text/plain": [
       "Text(0.5, 1.0, 'AlexNet on New House Data\\nClassification Test Accuracy: 94.29%\\n')"
      ]
     },
     "execution_count": 24,
     "metadata": {},
     "output_type": "execute_result"
    },
    {
     "data": {
      "image/png": "[encoded data removed]",
      "text/plain": [
       "<Figure size 432x288 with 1 Axes>"
      ]
     },
     "metadata": {
      "needs_background": "light"
     },
     "output_type": "display_data"
    }
   ],
   "source": [
    "plt.title(f'AlexNet on New House Data\\nClassification Test Accuracy: {acc}%\\n', size=32)"
   ]
  },
  {
   "cell_type": "code",
   "execution_count": 11,
   "id": "c49167bb",
   "metadata": {},
   "outputs": [],
   "source": [
    "# np.save(f'X_train_split{SPLIT}', X_train)\n",
    "# np.save(f'y_train_split{SPLIT}', y_train)\n",
    "# np.save(f'X_test_split{SPLIT}', X_test)\n",
    "# np.save(f'y_test_split{SPLIT}', y_test)\n",
    "# with open(f'test_idx_split{SPLIT}.txt', 'w') as f:\n",
    "#     f.write(str(list(test_idx)))\n",
    "# print('split saved')"
   ]
  },
  {
   "cell_type": "code",
   "execution_count": 12,
   "id": "49024e4b",
   "metadata": {},
   "outputs": [],
   "source": [
    "model_name = f'AlexNet_model_split{SPLIT}'\n",
    "model_json = model.to_json()\n",
    "with open(f'{model_name}.json', 'w') as jf:\n",
    "    jf.write(model_json)\n",
    "model.save_weights(f'{model_name}.h5')"
   ]
  },
  {
   "cell_type": "code",
   "execution_count": 13,
   "id": "6d65a461",
   "metadata": {},
   "outputs": [
    {
     "name": "stdout",
     "output_type": "stream",
     "text": [
      "Model: \"sequential\"\n",
      "_________________________________________________________________\n",
      "Layer (type)                 Output Shape              Param #   \n",
      "=================================================================\n",
      "conv2d (Conv2D)              (None, 94, 126, 96)       34944     \n",
      "_________________________________________________________________\n",
      "max_pooling2d (MaxPooling2D) (None, 46, 62, 96)        0         \n",
      "_________________________________________________________________\n",
      "conv2d_1 (Conv2D)            (None, 42, 58, 256)       614656    \n",
      "_________________________________________________________________\n",
      "max_pooling2d_1 (MaxPooling2 (None, 20, 28, 256)       0         \n",
      "_________________________________________________________________\n",
      "conv2d_2 (Conv2D)            (None, 18, 26, 384)       885120    \n",
      "_________________________________________________________________\n",
      "conv2d_3 (Conv2D)            (None, 16, 24, 384)       1327488   \n",
      "_________________________________________________________________\n",
      "conv2d_4 (Conv2D)            (None, 14, 22, 256)       884992    \n",
      "_________________________________________________________________\n",
      "max_pooling2d_2 (MaxPooling2 (None, 6, 10, 256)        0         \n",
      "_________________________________________________________________\n",
      "flatten (Flatten)            (None, 15360)             0         \n",
      "_________________________________________________________________\n",
      "dense (Dense)                (None, 4096)              62918656  \n",
      "_________________________________________________________________\n",
      "dropout (Dropout)            (None, 4096)              0         \n",
      "_________________________________________________________________\n",
      "dense_1 (Dense)              (None, 4096)              16781312  \n",
      "_________________________________________________________________\n",
      "dropout_1 (Dropout)          (None, 4096)              0         \n",
      "_________________________________________________________________\n",
      "dense_2 (Dense)              (None, 3)                 12291     \n",
      "=================================================================\n",
      "Total params: 83,459,459\n",
      "Trainable params: 83,459,459\n",
      "Non-trainable params: 0\n",
      "_________________________________________________________________\n"
     ]
    }
   ],
   "source": [
    "# from tensorflow.keras.models import model_from_json\n",
    "with open(f'{model_name}.json') as jf:\n",
    "    json = jf.read()\n",
    "loaded_model = model_from_json(json)\n",
    "loaded_model.load_weights(f'{model_name}.h5')\n",
    "loaded_model.summary()"
   ]
  },
  {
   "cell_type": "code",
   "execution_count": null,
   "id": "10b1206b",
   "metadata": {},
   "outputs": [],
   "source": []
  }
 ],
 "metadata": {
  "kernelspec": {
   "display_name": "Python 3 (ipykernel)",
   "language": "python",
   "name": "python3"
  },
  "language_info": {
   "codemirror_mode": {
    "name": "ipython",
    "version": 3
   },
   "file_extension": ".py",
   "mimetype": "text/x-python",
   "name": "python",
   "nbconvert_exporter": "python",
   "pygments_lexer": "ipython3",
   "version": "3.7.3"
  }
 },
 "nbformat": 4,
 "nbformat_minor": 5
}
